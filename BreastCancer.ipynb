{
 "cells": [
  {
   "cell_type": "markdown",
   "id": "4b544b35-2fc4-4008-b10f-3444b3d47da6",
   "metadata": {},
   "source": [
    "# Probelm Statement\n",
    "The objective of this project is to develop a predictive model that accurately classifies breast tumor diagnoses as either benign or malignant based on various features extracted from diagnostic images and patient data. The project aims to identify the best machine learning model and its optimal parameters to achieve high prediction accuracy. The best model is stored as a Pickle file to be used to create a Streamlit web application to view the prediction and probability of the tumour being Malignant or Bening based on the input features."
   ]
  },
  {
   "cell_type": "code",
   "execution_count": 2,
   "id": "39c27d02-bafc-40bd-9d90-90058c7e0442",
   "metadata": {},
   "outputs": [],
   "source": [
    "#Importing Libraries\n",
    "\n",
    "import pandas as pd\n",
    "import matplotlib.pyplot as plt\n",
    "import seaborn as sns\n",
    "from sklearn.preprocessing import StandardScaler\n",
    "from sklearn.model_selection import train_test_split\n",
    "from sklearn.linear_model import LogisticRegression\n",
    "from sklearn.ensemble import RandomForestClassifier\n",
    "from sklearn.neighbors import KNeighborsClassifier\n",
    "from sklearn.svm import SVC\n",
    "from sklearn.model_selection import GridSearchCV"
   ]
  },
  {
   "cell_type": "markdown",
   "id": "fa94cd87-cad7-4d70-8704-9897d2bfe344",
   "metadata": {},
   "source": [
    "# Data Cleaning "
   ]
  },
  {
   "cell_type": "code",
   "execution_count": 3,
   "id": "fe2fd125-aade-44ac-89b2-4499a3fa2f18",
   "metadata": {},
   "outputs": [],
   "source": [
    "# Reading the data as a DataFrame\n",
    "\n",
    "df = pd.read_csv(\"D:/Data/Dataset/Breast_Cancer/data.csv\")"
   ]
  },
  {
   "cell_type": "code",
   "execution_count": 4,
   "id": "84eae3df-d3b8-4eb1-abf1-b00980159839",
   "metadata": {},
   "outputs": [
    {
     "name": "stdout",
     "output_type": "stream",
     "text": [
      "<class 'pandas.core.frame.DataFrame'>\n",
      "RangeIndex: 569 entries, 0 to 568\n",
      "Data columns (total 33 columns):\n",
      " #   Column                   Non-Null Count  Dtype  \n",
      "---  ------                   --------------  -----  \n",
      " 0   id                       569 non-null    int64  \n",
      " 1   diagnosis                569 non-null    object \n",
      " 2   radius_mean              569 non-null    float64\n",
      " 3   texture_mean             569 non-null    float64\n",
      " 4   perimeter_mean           569 non-null    float64\n",
      " 5   area_mean                569 non-null    float64\n",
      " 6   smoothness_mean          569 non-null    float64\n",
      " 7   compactness_mean         569 non-null    float64\n",
      " 8   concavity_mean           569 non-null    float64\n",
      " 9   concave points_mean      569 non-null    float64\n",
      " 10  symmetry_mean            569 non-null    float64\n",
      " 11  fractal_dimension_mean   569 non-null    float64\n",
      " 12  radius_se                569 non-null    float64\n",
      " 13  texture_se               569 non-null    float64\n",
      " 14  perimeter_se             569 non-null    float64\n",
      " 15  area_se                  569 non-null    float64\n",
      " 16  smoothness_se            569 non-null    float64\n",
      " 17  compactness_se           569 non-null    float64\n",
      " 18  concavity_se             569 non-null    float64\n",
      " 19  concave points_se        569 non-null    float64\n",
      " 20  symmetry_se              569 non-null    float64\n",
      " 21  fractal_dimension_se     569 non-null    float64\n",
      " 22  radius_worst             569 non-null    float64\n",
      " 23  texture_worst            569 non-null    float64\n",
      " 24  perimeter_worst          569 non-null    float64\n",
      " 25  area_worst               569 non-null    float64\n",
      " 26  smoothness_worst         569 non-null    float64\n",
      " 27  compactness_worst        569 non-null    float64\n",
      " 28  concavity_worst          569 non-null    float64\n",
      " 29  concave points_worst     569 non-null    float64\n",
      " 30  symmetry_worst           569 non-null    float64\n",
      " 31  fractal_dimension_worst  569 non-null    float64\n",
      " 32  Unnamed: 32              0 non-null      float64\n",
      "dtypes: float64(31), int64(1), object(1)\n",
      "memory usage: 146.8+ KB\n"
     ]
    }
   ],
   "source": [
    "# Cheking for missing values and datatypes\n",
    "\n",
    "df.info()"
   ]
  },
  {
   "cell_type": "code",
   "execution_count": 5,
   "id": "7e60461e-2148-4739-9600-7b3c9cb25231",
   "metadata": {},
   "outputs": [],
   "source": [
    "# Dropping irrelevant columns 'Unnamed: 32' and 'id' for model building\n",
    "\n",
    "df.drop(['Unnamed: 32', 'id'],axis=1, inplace=True)"
   ]
  },
  {
   "cell_type": "code",
   "execution_count": 6,
   "id": "9d0456e2-4a64-4f4f-bbc9-d5db8c07e842",
   "metadata": {},
   "outputs": [
    {
     "name": "stdout",
     "output_type": "stream",
     "text": [
      "0      M\n",
      "1      M\n",
      "2      M\n",
      "3      M\n",
      "4      M\n",
      "      ..\n",
      "564    M\n",
      "565    M\n",
      "566    M\n",
      "567    M\n",
      "568    B\n",
      "Name: diagnosis, Length: 569, dtype: object\n"
     ]
    }
   ],
   "source": [
    "# Viewing the 'Diagnosis' column which contains labels 'M' for Malignant and 'B' for Benignant Tumors\n",
    "\n",
    "print(df['diagnosis'])"
   ]
  },
  {
   "cell_type": "code",
   "execution_count": 7,
   "id": "71a0ec78-3490-46b5-9964-7248421e10b4",
   "metadata": {},
   "outputs": [
    {
     "name": "stdout",
     "output_type": "stream",
     "text": [
      "diagnosis\n",
      "B    357\n",
      "M    212\n",
      "Name: count, dtype: int64\n"
     ]
    }
   ],
   "source": [
    "# Checking for imbalance in the dataset\n",
    "\n",
    "print(df['diagnosis'].value_counts())"
   ]
  },
  {
   "cell_type": "markdown",
   "id": "9d6be254-208f-4197-a830-63367876ba09",
   "metadata": {},
   "source": [
    "**The Dataset is imbalanced**. Bening tumours are more prevalent than Malignant tumours in the dataset. Addressing class imbalance is crucial to ensure that machine learning models trained on imbalanced datasets generalize well and provide accurate predictions for both classes. It introduces Poor Generalization and Evaluation Bias."
   ]
  },
  {
   "cell_type": "code",
   "execution_count": 8,
   "id": "256c79c5-6c69-484d-973f-a71fc88331d0",
   "metadata": {},
   "outputs": [],
   "source": [
    "# Mapping the 'diagnosis' column to numerical values for binary classification with 'M' as 1 and 'B' as 0\n",
    "\n",
    "df['diagnosis'] = df['diagnosis'].map({'M':1, 'B':0})"
   ]
  },
  {
   "cell_type": "markdown",
   "id": "dd707383-8620-4cea-bfc7-c33e59195ec3",
   "metadata": {},
   "source": [
    "# Model Building"
   ]
  },
  {
   "cell_type": "code",
   "execution_count": 9,
   "id": "35e1e2c1-e2c0-4ad0-bf08-69dbdb5cbfe5",
   "metadata": {},
   "outputs": [],
   "source": [
    "# Creating feature matrix X and dropping the label column 'diagnosis'\n",
    "\n",
    "X = df.drop(['diagnosis'],axis=1)"
   ]
  },
  {
   "cell_type": "code",
   "execution_count": 10,
   "id": "6f77298c-0e93-4f41-a52d-cf52b5a328ae",
   "metadata": {
    "scrolled": true
   },
   "outputs": [
    {
     "data": {
      "text/html": [
       "<div>\n",
       "<style scoped>\n",
       "    .dataframe tbody tr th:only-of-type {\n",
       "        vertical-align: middle;\n",
       "    }\n",
       "\n",
       "    .dataframe tbody tr th {\n",
       "        vertical-align: top;\n",
       "    }\n",
       "\n",
       "    .dataframe thead th {\n",
       "        text-align: right;\n",
       "    }\n",
       "</style>\n",
       "<table border=\"1\" class=\"dataframe\">\n",
       "  <thead>\n",
       "    <tr style=\"text-align: right;\">\n",
       "      <th></th>\n",
       "      <th>radius_mean</th>\n",
       "      <th>texture_mean</th>\n",
       "      <th>perimeter_mean</th>\n",
       "      <th>area_mean</th>\n",
       "      <th>smoothness_mean</th>\n",
       "      <th>compactness_mean</th>\n",
       "      <th>concavity_mean</th>\n",
       "      <th>concave points_mean</th>\n",
       "      <th>symmetry_mean</th>\n",
       "      <th>fractal_dimension_mean</th>\n",
       "      <th>...</th>\n",
       "      <th>radius_worst</th>\n",
       "      <th>texture_worst</th>\n",
       "      <th>perimeter_worst</th>\n",
       "      <th>area_worst</th>\n",
       "      <th>smoothness_worst</th>\n",
       "      <th>compactness_worst</th>\n",
       "      <th>concavity_worst</th>\n",
       "      <th>concave points_worst</th>\n",
       "      <th>symmetry_worst</th>\n",
       "      <th>fractal_dimension_worst</th>\n",
       "    </tr>\n",
       "  </thead>\n",
       "  <tbody>\n",
       "    <tr>\n",
       "      <th>0</th>\n",
       "      <td>17.99</td>\n",
       "      <td>10.38</td>\n",
       "      <td>122.80</td>\n",
       "      <td>1001.0</td>\n",
       "      <td>0.11840</td>\n",
       "      <td>0.27760</td>\n",
       "      <td>0.30010</td>\n",
       "      <td>0.14710</td>\n",
       "      <td>0.2419</td>\n",
       "      <td>0.07871</td>\n",
       "      <td>...</td>\n",
       "      <td>25.380</td>\n",
       "      <td>17.33</td>\n",
       "      <td>184.60</td>\n",
       "      <td>2019.0</td>\n",
       "      <td>0.16220</td>\n",
       "      <td>0.66560</td>\n",
       "      <td>0.7119</td>\n",
       "      <td>0.2654</td>\n",
       "      <td>0.4601</td>\n",
       "      <td>0.11890</td>\n",
       "    </tr>\n",
       "    <tr>\n",
       "      <th>1</th>\n",
       "      <td>20.57</td>\n",
       "      <td>17.77</td>\n",
       "      <td>132.90</td>\n",
       "      <td>1326.0</td>\n",
       "      <td>0.08474</td>\n",
       "      <td>0.07864</td>\n",
       "      <td>0.08690</td>\n",
       "      <td>0.07017</td>\n",
       "      <td>0.1812</td>\n",
       "      <td>0.05667</td>\n",
       "      <td>...</td>\n",
       "      <td>24.990</td>\n",
       "      <td>23.41</td>\n",
       "      <td>158.80</td>\n",
       "      <td>1956.0</td>\n",
       "      <td>0.12380</td>\n",
       "      <td>0.18660</td>\n",
       "      <td>0.2416</td>\n",
       "      <td>0.1860</td>\n",
       "      <td>0.2750</td>\n",
       "      <td>0.08902</td>\n",
       "    </tr>\n",
       "    <tr>\n",
       "      <th>2</th>\n",
       "      <td>19.69</td>\n",
       "      <td>21.25</td>\n",
       "      <td>130.00</td>\n",
       "      <td>1203.0</td>\n",
       "      <td>0.10960</td>\n",
       "      <td>0.15990</td>\n",
       "      <td>0.19740</td>\n",
       "      <td>0.12790</td>\n",
       "      <td>0.2069</td>\n",
       "      <td>0.05999</td>\n",
       "      <td>...</td>\n",
       "      <td>23.570</td>\n",
       "      <td>25.53</td>\n",
       "      <td>152.50</td>\n",
       "      <td>1709.0</td>\n",
       "      <td>0.14440</td>\n",
       "      <td>0.42450</td>\n",
       "      <td>0.4504</td>\n",
       "      <td>0.2430</td>\n",
       "      <td>0.3613</td>\n",
       "      <td>0.08758</td>\n",
       "    </tr>\n",
       "    <tr>\n",
       "      <th>3</th>\n",
       "      <td>11.42</td>\n",
       "      <td>20.38</td>\n",
       "      <td>77.58</td>\n",
       "      <td>386.1</td>\n",
       "      <td>0.14250</td>\n",
       "      <td>0.28390</td>\n",
       "      <td>0.24140</td>\n",
       "      <td>0.10520</td>\n",
       "      <td>0.2597</td>\n",
       "      <td>0.09744</td>\n",
       "      <td>...</td>\n",
       "      <td>14.910</td>\n",
       "      <td>26.50</td>\n",
       "      <td>98.87</td>\n",
       "      <td>567.7</td>\n",
       "      <td>0.20980</td>\n",
       "      <td>0.86630</td>\n",
       "      <td>0.6869</td>\n",
       "      <td>0.2575</td>\n",
       "      <td>0.6638</td>\n",
       "      <td>0.17300</td>\n",
       "    </tr>\n",
       "    <tr>\n",
       "      <th>4</th>\n",
       "      <td>20.29</td>\n",
       "      <td>14.34</td>\n",
       "      <td>135.10</td>\n",
       "      <td>1297.0</td>\n",
       "      <td>0.10030</td>\n",
       "      <td>0.13280</td>\n",
       "      <td>0.19800</td>\n",
       "      <td>0.10430</td>\n",
       "      <td>0.1809</td>\n",
       "      <td>0.05883</td>\n",
       "      <td>...</td>\n",
       "      <td>22.540</td>\n",
       "      <td>16.67</td>\n",
       "      <td>152.20</td>\n",
       "      <td>1575.0</td>\n",
       "      <td>0.13740</td>\n",
       "      <td>0.20500</td>\n",
       "      <td>0.4000</td>\n",
       "      <td>0.1625</td>\n",
       "      <td>0.2364</td>\n",
       "      <td>0.07678</td>\n",
       "    </tr>\n",
       "    <tr>\n",
       "      <th>...</th>\n",
       "      <td>...</td>\n",
       "      <td>...</td>\n",
       "      <td>...</td>\n",
       "      <td>...</td>\n",
       "      <td>...</td>\n",
       "      <td>...</td>\n",
       "      <td>...</td>\n",
       "      <td>...</td>\n",
       "      <td>...</td>\n",
       "      <td>...</td>\n",
       "      <td>...</td>\n",
       "      <td>...</td>\n",
       "      <td>...</td>\n",
       "      <td>...</td>\n",
       "      <td>...</td>\n",
       "      <td>...</td>\n",
       "      <td>...</td>\n",
       "      <td>...</td>\n",
       "      <td>...</td>\n",
       "      <td>...</td>\n",
       "      <td>...</td>\n",
       "    </tr>\n",
       "    <tr>\n",
       "      <th>564</th>\n",
       "      <td>21.56</td>\n",
       "      <td>22.39</td>\n",
       "      <td>142.00</td>\n",
       "      <td>1479.0</td>\n",
       "      <td>0.11100</td>\n",
       "      <td>0.11590</td>\n",
       "      <td>0.24390</td>\n",
       "      <td>0.13890</td>\n",
       "      <td>0.1726</td>\n",
       "      <td>0.05623</td>\n",
       "      <td>...</td>\n",
       "      <td>25.450</td>\n",
       "      <td>26.40</td>\n",
       "      <td>166.10</td>\n",
       "      <td>2027.0</td>\n",
       "      <td>0.14100</td>\n",
       "      <td>0.21130</td>\n",
       "      <td>0.4107</td>\n",
       "      <td>0.2216</td>\n",
       "      <td>0.2060</td>\n",
       "      <td>0.07115</td>\n",
       "    </tr>\n",
       "    <tr>\n",
       "      <th>565</th>\n",
       "      <td>20.13</td>\n",
       "      <td>28.25</td>\n",
       "      <td>131.20</td>\n",
       "      <td>1261.0</td>\n",
       "      <td>0.09780</td>\n",
       "      <td>0.10340</td>\n",
       "      <td>0.14400</td>\n",
       "      <td>0.09791</td>\n",
       "      <td>0.1752</td>\n",
       "      <td>0.05533</td>\n",
       "      <td>...</td>\n",
       "      <td>23.690</td>\n",
       "      <td>38.25</td>\n",
       "      <td>155.00</td>\n",
       "      <td>1731.0</td>\n",
       "      <td>0.11660</td>\n",
       "      <td>0.19220</td>\n",
       "      <td>0.3215</td>\n",
       "      <td>0.1628</td>\n",
       "      <td>0.2572</td>\n",
       "      <td>0.06637</td>\n",
       "    </tr>\n",
       "    <tr>\n",
       "      <th>566</th>\n",
       "      <td>16.60</td>\n",
       "      <td>28.08</td>\n",
       "      <td>108.30</td>\n",
       "      <td>858.1</td>\n",
       "      <td>0.08455</td>\n",
       "      <td>0.10230</td>\n",
       "      <td>0.09251</td>\n",
       "      <td>0.05302</td>\n",
       "      <td>0.1590</td>\n",
       "      <td>0.05648</td>\n",
       "      <td>...</td>\n",
       "      <td>18.980</td>\n",
       "      <td>34.12</td>\n",
       "      <td>126.70</td>\n",
       "      <td>1124.0</td>\n",
       "      <td>0.11390</td>\n",
       "      <td>0.30940</td>\n",
       "      <td>0.3403</td>\n",
       "      <td>0.1418</td>\n",
       "      <td>0.2218</td>\n",
       "      <td>0.07820</td>\n",
       "    </tr>\n",
       "    <tr>\n",
       "      <th>567</th>\n",
       "      <td>20.60</td>\n",
       "      <td>29.33</td>\n",
       "      <td>140.10</td>\n",
       "      <td>1265.0</td>\n",
       "      <td>0.11780</td>\n",
       "      <td>0.27700</td>\n",
       "      <td>0.35140</td>\n",
       "      <td>0.15200</td>\n",
       "      <td>0.2397</td>\n",
       "      <td>0.07016</td>\n",
       "      <td>...</td>\n",
       "      <td>25.740</td>\n",
       "      <td>39.42</td>\n",
       "      <td>184.60</td>\n",
       "      <td>1821.0</td>\n",
       "      <td>0.16500</td>\n",
       "      <td>0.86810</td>\n",
       "      <td>0.9387</td>\n",
       "      <td>0.2650</td>\n",
       "      <td>0.4087</td>\n",
       "      <td>0.12400</td>\n",
       "    </tr>\n",
       "    <tr>\n",
       "      <th>568</th>\n",
       "      <td>7.76</td>\n",
       "      <td>24.54</td>\n",
       "      <td>47.92</td>\n",
       "      <td>181.0</td>\n",
       "      <td>0.05263</td>\n",
       "      <td>0.04362</td>\n",
       "      <td>0.00000</td>\n",
       "      <td>0.00000</td>\n",
       "      <td>0.1587</td>\n",
       "      <td>0.05884</td>\n",
       "      <td>...</td>\n",
       "      <td>9.456</td>\n",
       "      <td>30.37</td>\n",
       "      <td>59.16</td>\n",
       "      <td>268.6</td>\n",
       "      <td>0.08996</td>\n",
       "      <td>0.06444</td>\n",
       "      <td>0.0000</td>\n",
       "      <td>0.0000</td>\n",
       "      <td>0.2871</td>\n",
       "      <td>0.07039</td>\n",
       "    </tr>\n",
       "  </tbody>\n",
       "</table>\n",
       "<p>569 rows × 30 columns</p>\n",
       "</div>"
      ],
      "text/plain": [
       "     radius_mean  texture_mean  perimeter_mean  area_mean  smoothness_mean  \\\n",
       "0          17.99         10.38          122.80     1001.0          0.11840   \n",
       "1          20.57         17.77          132.90     1326.0          0.08474   \n",
       "2          19.69         21.25          130.00     1203.0          0.10960   \n",
       "3          11.42         20.38           77.58      386.1          0.14250   \n",
       "4          20.29         14.34          135.10     1297.0          0.10030   \n",
       "..           ...           ...             ...        ...              ...   \n",
       "564        21.56         22.39          142.00     1479.0          0.11100   \n",
       "565        20.13         28.25          131.20     1261.0          0.09780   \n",
       "566        16.60         28.08          108.30      858.1          0.08455   \n",
       "567        20.60         29.33          140.10     1265.0          0.11780   \n",
       "568         7.76         24.54           47.92      181.0          0.05263   \n",
       "\n",
       "     compactness_mean  concavity_mean  concave points_mean  symmetry_mean  \\\n",
       "0             0.27760         0.30010              0.14710         0.2419   \n",
       "1             0.07864         0.08690              0.07017         0.1812   \n",
       "2             0.15990         0.19740              0.12790         0.2069   \n",
       "3             0.28390         0.24140              0.10520         0.2597   \n",
       "4             0.13280         0.19800              0.10430         0.1809   \n",
       "..                ...             ...                  ...            ...   \n",
       "564           0.11590         0.24390              0.13890         0.1726   \n",
       "565           0.10340         0.14400              0.09791         0.1752   \n",
       "566           0.10230         0.09251              0.05302         0.1590   \n",
       "567           0.27700         0.35140              0.15200         0.2397   \n",
       "568           0.04362         0.00000              0.00000         0.1587   \n",
       "\n",
       "     fractal_dimension_mean  ...  radius_worst  texture_worst  \\\n",
       "0                   0.07871  ...        25.380          17.33   \n",
       "1                   0.05667  ...        24.990          23.41   \n",
       "2                   0.05999  ...        23.570          25.53   \n",
       "3                   0.09744  ...        14.910          26.50   \n",
       "4                   0.05883  ...        22.540          16.67   \n",
       "..                      ...  ...           ...            ...   \n",
       "564                 0.05623  ...        25.450          26.40   \n",
       "565                 0.05533  ...        23.690          38.25   \n",
       "566                 0.05648  ...        18.980          34.12   \n",
       "567                 0.07016  ...        25.740          39.42   \n",
       "568                 0.05884  ...         9.456          30.37   \n",
       "\n",
       "     perimeter_worst  area_worst  smoothness_worst  compactness_worst  \\\n",
       "0             184.60      2019.0           0.16220            0.66560   \n",
       "1             158.80      1956.0           0.12380            0.18660   \n",
       "2             152.50      1709.0           0.14440            0.42450   \n",
       "3              98.87       567.7           0.20980            0.86630   \n",
       "4             152.20      1575.0           0.13740            0.20500   \n",
       "..               ...         ...               ...                ...   \n",
       "564           166.10      2027.0           0.14100            0.21130   \n",
       "565           155.00      1731.0           0.11660            0.19220   \n",
       "566           126.70      1124.0           0.11390            0.30940   \n",
       "567           184.60      1821.0           0.16500            0.86810   \n",
       "568            59.16       268.6           0.08996            0.06444   \n",
       "\n",
       "     concavity_worst  concave points_worst  symmetry_worst  \\\n",
       "0             0.7119                0.2654          0.4601   \n",
       "1             0.2416                0.1860          0.2750   \n",
       "2             0.4504                0.2430          0.3613   \n",
       "3             0.6869                0.2575          0.6638   \n",
       "4             0.4000                0.1625          0.2364   \n",
       "..               ...                   ...             ...   \n",
       "564           0.4107                0.2216          0.2060   \n",
       "565           0.3215                0.1628          0.2572   \n",
       "566           0.3403                0.1418          0.2218   \n",
       "567           0.9387                0.2650          0.4087   \n",
       "568           0.0000                0.0000          0.2871   \n",
       "\n",
       "     fractal_dimension_worst  \n",
       "0                    0.11890  \n",
       "1                    0.08902  \n",
       "2                    0.08758  \n",
       "3                    0.17300  \n",
       "4                    0.07678  \n",
       "..                       ...  \n",
       "564                  0.07115  \n",
       "565                  0.06637  \n",
       "566                  0.07820  \n",
       "567                  0.12400  \n",
       "568                  0.07039  \n",
       "\n",
       "[569 rows x 30 columns]"
      ]
     },
     "execution_count": 10,
     "metadata": {},
     "output_type": "execute_result"
    }
   ],
   "source": [
    "#Viewing Training Data - Feature matrix\n",
    "\n",
    "X"
   ]
  },
  {
   "cell_type": "code",
   "execution_count": 11,
   "id": "92449420-b427-4c8a-90f0-3dd467955741",
   "metadata": {},
   "outputs": [],
   "source": [
    "# Creating target vector y containing the 'diagnosis' column\n",
    "y = df['diagnosis']"
   ]
  },
  {
   "cell_type": "code",
   "execution_count": 12,
   "id": "722d1913-426e-4477-8c60-a73845f5389c",
   "metadata": {},
   "outputs": [
    {
     "data": {
      "text/plain": [
       "0      1\n",
       "1      1\n",
       "2      1\n",
       "3      1\n",
       "4      1\n",
       "      ..\n",
       "564    1\n",
       "565    1\n",
       "566    1\n",
       "567    1\n",
       "568    0\n",
       "Name: diagnosis, Length: 569, dtype: int64"
      ]
     },
     "execution_count": 12,
     "metadata": {},
     "output_type": "execute_result"
    }
   ],
   "source": [
    "#Viewing Training Data - Target vector\n",
    "y"
   ]
  },
  {
   "cell_type": "code",
   "execution_count": 13,
   "id": "624a0c06-64d0-4ff2-9ff6-04cee8f7eb5c",
   "metadata": {},
   "outputs": [],
   "source": [
    "# Scaling the training data\n",
    "\n",
    "scaler = StandardScaler()\n",
    "X = scaler.fit_transform(X)"
   ]
  },
  {
   "cell_type": "code",
   "execution_count": 14,
   "id": "44d4f90b-2575-4546-baf7-f0529d44eec5",
   "metadata": {},
   "outputs": [],
   "source": [
    "# 80-20 Train-Test Split\n",
    "\n",
    "X_train, X_test, y_train, y_test = train_test_split(X, y, test_size=0.2, random_state=42)"
   ]
  },
  {
   "cell_type": "code",
   "execution_count": 15,
   "id": "efe3d6eb-15cd-4558-a167-49a8e6e4fbbd",
   "metadata": {},
   "outputs": [],
   "source": [
    "# Creating a Parameter Grid for each Model for hyperparameter tuning using GridSearchCV\n",
    "\n",
    "param_grid_lr = {'C': [0.001, 0.01, 0.1, 1, 10, 100], 'random_state': [42]}\n",
    "param_grid_rf = {'n_estimators': [50, 100, 150], 'max_depth': [3, 5, 7], 'random_state': [42]}\n",
    "param_grid_knn = {'n_neighbors': [3, 5, 7, 9]}\n",
    "param_grid_svm_linear = {'C': [0.001, 0.01, 0.1, 1, 10, 100], 'random_state': [42]}\n",
    "param_grid_svm_rbf = {'C': [0.001, 0.01, 0.1, 1, 10, 100], 'gamma': [0.001, 0.01, 0.1, 1], 'random_state': [42]}"
   ]
  },
  {
   "cell_type": "code",
   "execution_count": 16,
   "id": "cb276251-a47f-450e-9c3a-c5142a39249d",
   "metadata": {},
   "outputs": [],
   "source": [
    "# Creating a list of models with their respective Parameter grids\n",
    "\n",
    "models_param_grid = [\n",
    "    (LogisticRegression(max_iter=1000), param_grid_lr),\n",
    "    (RandomForestClassifier(), param_grid_rf),\n",
    "    (KNeighborsClassifier(), param_grid_knn),\n",
    "    (SVC(kernel='linear', class_weight='balanced'), param_grid_svm_linear),\n",
    "    (SVC(kernel='rbf', class_weight='balanced'), param_grid_svm_rbf)]"
   ]
  },
  {
   "cell_type": "code",
   "execution_count": 17,
   "id": "f306eef4-361a-41cc-ae25-c09404d46470",
   "metadata": {},
   "outputs": [],
   "source": [
    "# List of model names\n",
    "\n",
    "model_names = [\n",
    "    \"Logistic Regression\",\n",
    "    \"RandomForest Classifier\",\n",
    "    \"KNeighbors Classifier\",\n",
    "    \"SVC with linear kernel\",\n",
    "    \"SVC with RBF kernel\"\n",
    "]"
   ]
  },
  {
   "cell_type": "code",
   "execution_count": 18,
   "id": "e1241865-95ad-4aec-92e7-e2702c193acc",
   "metadata": {},
   "outputs": [],
   "source": [
    "# Iterate through the param grid of each model and store each model's best parameters for maximum recall score\n",
    "\n",
    "estimators = {}\n",
    "\n",
    "for i, _ in enumerate(models_param_grid):\n",
    "    model = model_names[i]\n",
    "    estimators[model] = {}\n",
    "    grid_search = GridSearchCV(models_param_grid[i][0], models_param_grid[i][1], cv=5, scoring='recall')\n",
    "    grid_search.fit(X_train, y_train)\n",
    "    estimators[model] = grid_search.best_estimator_"
   ]
  },
  {
   "cell_type": "code",
   "execution_count": 19,
   "id": "8891f13b-4a09-42c1-86bf-86d3b52bcf6a",
   "metadata": {},
   "outputs": [
    {
     "name": "stdout",
     "output_type": "stream",
     "text": [
      "\u001b[1mLogistic Regression\u001b[0m\n",
      "Accuracy: 0.9736842105263158\n",
      "Recall: 0.9767441860465116\n",
      "Precision: 0.9545454545454546\n",
      "F1 Score: 0.9655172413793104\n",
      "\n",
      "\u001b[1mRandomForest Classifier\u001b[0m\n",
      "Accuracy: 0.9649122807017544\n",
      "Recall: 0.9302325581395349\n",
      "Precision: 0.975609756097561\n",
      "F1 Score: 0.9523809523809524\n",
      "\n",
      "\u001b[1mKNeighbors Classifier\u001b[0m\n",
      "Accuracy: 0.9473684210526315\n",
      "Recall: 0.9302325581395349\n",
      "Precision: 0.9302325581395349\n",
      "F1 Score: 0.9302325581395349\n",
      "\n",
      "\u001b[1mSVC with linear kernel\u001b[0m\n",
      "Accuracy: 0.956140350877193\n",
      "Recall: 0.9534883720930233\n",
      "Precision: 0.9318181818181818\n",
      "F1 Score: 0.942528735632184\n",
      "\n",
      "\u001b[1mSVC with RBF kernel\u001b[0m\n",
      "Accuracy: 0.9824561403508771\n",
      "Recall: 0.9534883720930233\n",
      "Precision: 1.0\n",
      "F1 Score: 0.9761904761904763\n",
      "\n"
     ]
    }
   ],
   "source": [
    "from sklearn.metrics import accuracy_score, precision_score, f1_score, recall_score\n",
    "\n",
    "accuracy_list = []\n",
    "recall_list = []\n",
    "precision_list = []\n",
    "f1_list = []\n",
    "\n",
    "\n",
    "for key, estimator in estimators.items():\n",
    "    y_pred = estimator.predict(X_test)\n",
    "    accuracy = accuracy_score(y_test, y_pred)\n",
    "    accuracy_list.append(accuracy)\n",
    "    recall = recall_score(y_test, y_pred)\n",
    "    recall_list.append(recall)\n",
    "    precision = precision_score(y_test, y_pred)\n",
    "    precision_list.append(precision)\n",
    "    f1 = f1_score(y_test, y_pred)\n",
    "    f1_list.append(f1)\n",
    "\n",
    "    print(\"\\033[1m\" + key + \"\\033[0m\")\n",
    "    print(\"Accuracy:\", accuracy)\n",
    "    print(\"Recall:\", recall)\n",
    "    print(\"Precision:\", precision)\n",
    "    print(\"F1 Score:\", f1)\n",
    "    print(\"\")"
   ]
  },
  {
   "cell_type": "code",
   "execution_count": 20,
   "id": "ff14cc0a-d68b-4a1d-b47a-216736f2cea9",
   "metadata": {},
   "outputs": [
    {
     "data": {
      "image/png": "[encoded data removed]",
      "text/plain": [
       "<Figure size 1200x600 with 1 Axes>"
      ]
     },
     "metadata": {},
     "output_type": "display_data"
    },
    {
     "data": {
      "image/png": "[encoded data removed]",
      "text/plain": [
       "<Figure size 1200x600 with 1 Axes>"
      ]
     },
     "metadata": {},
     "output_type": "display_data"
    },
    {
     "data": {
      "image/png": "[encoded data removed]",
      "text/plain": [
       "<Figure size 1200x600 with 1 Axes>"
      ]
     },
     "metadata": {},
     "output_type": "display_data"
    },
    {
     "data": {
      "image/png": "[encoded data removed]",
      "text/plain": [
       "<Figure size 1200x600 with 1 Axes>"
      ]
     },
     "metadata": {},
     "output_type": "display_data"
    }
   ],
   "source": [
    "# Plotting each metric for each model\n",
    "\n",
    "metric_lists = [accuracy_list, recall_list,precision_list, f1_list]\n",
    "metrics = ['Accuracy', 'Recall', 'Precision', 'F1']\n",
    "for metric_scores, metric in zip(metric_lists, metrics):\n",
    "    plt.figure(figsize=(12,6))\n",
    "    ax = sns.barplot(x=model_names, y=metric_scores,hue=model_names, palette=\"viridis\")\n",
    "    plt.xlabel('Model')\n",
    "    plt.ylabel(metric.capitalize() + ' Score')\n",
    "    plt.title(metric.capitalize() + ' Score for Each Model')\n",
    "    plt.ylim(0.90, 1)\n",
    "    for container in ax.containers:\n",
    "        ax.bar_label(container, fmt='%.3f', label_type='edge')\n",
    "    plt.show()\n"
   ]
  },
  {
   "cell_type": "markdown",
   "id": "bb2c87ca-49ff-4069-85a9-00caa4bc092c",
   "metadata": {},
   "source": [
    "# Model Selection\n",
    "\n",
    "In the context of breast cancer detection, correctly identifying malignant tumors (true positives) is typically more critical than correctly identifying benign tumors (true negatives). Prioritizing recall ensures that the model is sensitive to detecting as many malignant tumors as possible, even if it leads to some false positives.\n",
    "\n",
    "In case of the imbalance in the dataset with malignant tumors being less prevalent than benign tumors, maximizing recall becomes particularly important. By focusing on recall, the model aims to capture as many instances of malignant tumors as possible, addressing the inherent class imbalance and emphasizing the importance of detecting the more clinically significant condition. "
   ]
  },
  {
   "cell_type": "code",
   "execution_count": 21,
   "id": "4e42db6a-0faf-41fb-90fd-6f974a3f7cdd",
   "metadata": {},
   "outputs": [
    {
     "name": "stdout",
     "output_type": "stream",
     "text": [
      "Model with the highest recall: Logistic Regression\n",
      "Model with the highest f1 score: SVC with RBF kernel\n",
      "Model with the highest accuracy score: SVC with RBF kernel\n"
     ]
    }
   ],
   "source": [
    "# Finding the model name with the highest recall and f1 score value\n",
    "\n",
    "print(f\"Model with the highest recall: {model_names[recall_list.index(max(recall_list))]}\")\n",
    "print(f\"Model with the highest f1 score: {model_names[f1_list.index(max(f1_list))]}\")\n",
    "print(f\"Model with the highest accuracy score: {model_names[accuracy_list.index(max(accuracy_list))]}\")"
   ]
  },
  {
   "cell_type": "markdown",
   "id": "4af65f41-c2fe-4a79-80f9-794f744237fc",
   "metadata": {},
   "source": [
    "Logistic Regression tends to have **Lower Variance**, making it less prone to overfitting, especially with smaller datasets.\r",
    " Logistic Regression outputs probabilities, which can be useful for understanding th **Confidence of Predictions**."
   ]
  },
  {
   "cell_type": "markdown",
   "id": "74ad1a84-f10a-4be6-ae93-16918843a3fc",
   "metadata": {},
   "source": [
    "SVM with RBF kernel can effectively handle datasets with a large number of features, making it **Suitable for High-Dimensional data** like gene expression data often seen in cancer research.\n",
    "SVM with appropriate regularization parameters can be **Robust to Overfitting**, especially with small to medium-sized datasets."
   ]
  },
  {
   "cell_type": "code",
   "execution_count": 22,
   "id": "ef4f1f32-f043-46e6-8a2f-980f5e80ae29",
   "metadata": {},
   "outputs": [],
   "source": [
    "model_to_use = estimators['Logistic Regression']"
   ]
  },
  {
   "cell_type": "markdown",
   "id": "356c23ba-b7c9-4dcf-9f95-37b34407ac44",
   "metadata": {},
   "source": [
    "# Model Serialization with Pickle"
   ]
  },
  {
   "cell_type": "code",
   "execution_count": 23,
   "id": "c21d9881-bd99-4e0e-8928-6132b3706c0e",
   "metadata": {},
   "outputs": [],
   "source": [
    "import pickle"
   ]
  },
  {
   "cell_type": "code",
   "execution_count": 24,
   "id": "b7a6e99d-1891-42fe-b374-c25590fd6a04",
   "metadata": {},
   "outputs": [],
   "source": [
    "with open ('model.pkl', 'wb') as f:\n",
    "    pickle.dump(model_to_use, f)"
   ]
  },
  {
   "cell_type": "code",
   "execution_count": 25,
   "id": "0f585d65-682a-4adc-93eb-ef74eac0c98b",
   "metadata": {},
   "outputs": [],
   "source": [
    "with open ('scaler.pkl', 'wb') as f:\n",
    "        pickle.dump(scaler, f)"
   ]
  }
 ],
 "metadata": {
  "kernelspec": {
   "display_name": "Python 3 (ipykernel)",
   "language": "python",
   "name": "python3"
  },
  "language_info": {
   "codemirror_mode": {
    "name": "ipython",
    "version": 3
   },
   "file_extension": ".py",
   "mimetype": "text/x-python",
   "name": "python",
   "nbconvert_exporter": "python",
   "pygments_lexer": "ipython3",
   "version": "3.11.8"
  }
 },
 "nbformat": 4,
 "nbformat_minor": 5
}
